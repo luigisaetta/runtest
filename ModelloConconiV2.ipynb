{
 "cells": [
  {
   "cell_type": "markdown",
   "metadata": {},
   "source": [
    "# Modello Conconi V2 \n",
    "### author: L. S.\n",
    "### agosto 2017"
   ]
  },
  {
   "cell_type": "code",
   "execution_count": 1,
   "metadata": {
    "collapsed": true
   },
   "outputs": [],
   "source": [
    "import numpy\n",
    "import pandas as pd\n",
    "import sklearn.linear_model as lm\n",
    "import matplotlib\n",
    "import matplotlib.pyplot as plt"
   ]
  },
  {
   "cell_type": "code",
   "execution_count": 2,
   "metadata": {
    "collapsed": true
   },
   "outputs": [],
   "source": [
    "# nome del file che contiene i dati in input\n",
    "NOMEFILE = \"conconiman.csv\"\n",
    "\n",
    "# nome del file che contiene il grafico prodotto\n",
    "# per ora non usato\n",
    "# NOMEPDF = \"graf.pdf\"\n",
    "\n",
    "# nomi delle colonne contenenti speed (x), heart rate (y)\n",
    "COLONNAX = \"speed\"\n",
    "COLONNAY = \"media-hr\""
   ]
  },
  {
   "cell_type": "code",
   "execution_count": 3,
   "metadata": {
    "collapsed": false
   },
   "outputs": [
    {
     "name": "stdout",
     "output_type": "stream",
     "text": [
      "Dati in input:\n",
      "\n",
      "   avg-pace    sec  speed  media-hr  max-hr\n",
      "0     06:59  419.0   8.59       139     145\n",
      "1     06:54  414.0   8.70       146     152\n",
      "2     06:24  384.0   9.38       153     155\n",
      "3     06:16  376.0   9.57       157     162\n",
      "4     05:48  348.0  10.34       160     162\n",
      "5     05:32  332.0  10.84       165     170\n",
      "6     05:18  318.0  11.32       171     173\n",
      "7     05:03  303.0  11.88       175     177\n",
      "8     04:51  291.0  12.37       179     180\n",
      "9     04:42  282.0  12.77       181     183\n",
      "10    04:21  261.0  13.79       184     187\n",
      "11    04:32    NaN  13.24       186     188\n",
      "12    04:07  247.0  14.57       189     191\n"
     ]
    }
   ],
   "source": [
    "dati = pd.read_csv(NOMEFILE)\n",
    "\n",
    "print(\"Dati in input:\")\n",
    "print()\n",
    "print(dati)\n",
    "\n",
    "# servono solo le colonne speed e media-hr"
   ]
  },
  {
   "cell_type": "code",
   "execution_count": 4,
   "metadata": {
    "collapsed": true
   },
   "outputs": [],
   "source": [
    "## prepara il modello"
   ]
  },
  {
   "cell_type": "code",
   "execution_count": 5,
   "metadata": {
    "collapsed": true
   },
   "outputs": [],
   "source": [
    "olm = lm.LinearRegression()"
   ]
  },
  {
   "cell_type": "code",
   "execution_count": 6,
   "metadata": {
    "collapsed": true
   },
   "outputs": [],
   "source": [
    "X = numpy.array(dati[COLONNAX])[:, numpy.newaxis]\n",
    "y = dati[COLONNAY]"
   ]
  },
  {
   "cell_type": "markdown",
   "metadata": {},
   "source": [
    "## Training del modello (Ordinary Least Squares)"
   ]
  },
  {
   "cell_type": "code",
   "execution_count": 7,
   "metadata": {
    "collapsed": false
   },
   "outputs": [
    {
     "data": {
      "text/plain": [
       "LinearRegression(copy_X=True, fit_intercept=True, n_jobs=1, normalize=False)"
      ]
     },
     "execution_count": 7,
     "metadata": {},
     "output_type": "execute_result"
    }
   ],
   "source": [
    "olm.fit(X, y)"
   ]
  },
  {
   "cell_type": "code",
   "execution_count": 8,
   "metadata": {
    "collapsed": false
   },
   "outputs": [
    {
     "name": "stdout",
     "output_type": "stream",
     "text": [
      "\n",
      "Score del modello: 0.957\n"
     ]
    }
   ],
   "source": [
    "olm_score = olm.score(X, y)\n",
    "\n",
    "print()\n",
    "print(\"Score del modello: %.3f\" % olm_score)"
   ]
  },
  {
   "cell_type": "markdown",
   "metadata": {},
   "source": [
    "## predizione lineare"
   ]
  },
  {
   "cell_type": "code",
   "execution_count": 9,
   "metadata": {
    "collapsed": true
   },
   "outputs": [],
   "source": [
    "yp = olm.predict(X)"
   ]
  },
  {
   "cell_type": "markdown",
   "metadata": {},
   "source": [
    "## disegna grafico dati input"
   ]
  },
  {
   "cell_type": "code",
   "execution_count": 10,
   "metadata": {
    "collapsed": true
   },
   "outputs": [],
   "source": [
    "# matplotlib.style.use(\"ggplot\")"
   ]
  },
  {
   "cell_type": "code",
   "execution_count": 11,
   "metadata": {
    "collapsed": false
   },
   "outputs": [
    {
     "data": {
      "text/plain": [
       "[<matplotlib.lines.Line2D at 0x118878ef0>]"
      ]
     },
     "execution_count": 11,
     "metadata": {},
     "output_type": "execute_result"
    }
   ],
   "source": [
    "plt.plot(X, y)\n",
    "plt.plot(X, yp)"
   ]
  },
  {
   "cell_type": "code",
   "execution_count": 12,
   "metadata": {
    "collapsed": false
   },
   "outputs": [
    {
     "data": {
      "image/png": "[encoded data removed]",
      "text/plain": [
       "<matplotlib.figure.Figure at 0x118878860>"
      ]
     },
     "metadata": {},
     "output_type": "display_data"
    }
   ],
   "source": [
    "plt.title(\"Test Conconi\")\n",
    "plt.xlabel(\"Speed (km/h)\")\n",
    "plt.ylabel(\"Avg. hr\")\n",
    "plt.legend([\"actual\", \"predicted\"], loc=\"lower right\")\n",
    "plt.annotate(\"Score=%.3f\" % olm_score, xy=(X.min(), y.max()))\n",
    "plt.grid()\n",
    "plt.show()"
   ]
  },
  {
   "cell_type": "markdown",
   "metadata": {},
   "source": [
    "### La SAN (soglia anaerobica) è il punto di deflessione, dove la relazione y = f(x) cessa di essere lineare\n",
    "### nel caso di esempio, circa 13.5 (+/- 0.5)"
   ]
  },
  {
   "cell_type": "code",
   "execution_count": null,
   "metadata": {
    "collapsed": true
   },
   "outputs": [],
   "source": []
  }
 ],
 "metadata": {
  "kernelspec": {
   "display_name": "Python 3",
   "language": "python",
   "name": "python3"
  },
  "language_info": {
   "codemirror_mode": {
    "name": "ipython",
    "version": 3
   },
   "file_extension": ".py",
   "mimetype": "text/x-python",
   "name": "python",
   "nbconvert_exporter": "python",
   "pygments_lexer": "ipython3",
   "version": "3.6.0"
  }
 },
 "nbformat": 4,
 "nbformat_minor": 2
}
